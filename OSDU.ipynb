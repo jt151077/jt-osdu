{
  "nbformat": 4,
  "nbformat_minor": 0,
  "metadata": {
    "colab": {
      "provenance": []
    },
    "kernelspec": {
      "name": "python3",
      "display_name": "Python 3"
    },
    "language_info": {
      "name": "python"
    }
  },
  "cells": [
    {
      "cell_type": "code",
      "execution_count": null,
      "metadata": {
        "id": "zF_-408NzwOn"
      },
      "outputs": [],
      "source": [
        "#@title **GCP OSDU Authentication**\n",
        "import subprocess\n",
        "from google.colab import output\n",
        "import requests\n",
        "import json\n",
        "import shutil\n",
        "\n",
        "try:\n",
        "  shutil.rmtree(\"/content/jtosdu\")\n",
        "  print(\"OSDU lib found, refreshing it ...\")\n",
        "except:\n",
        "  print(\"OSDU lib not found, downloading it ...\")\n",
        "\n",
        "!git clone https://github.com/jt151077/jt-osdu jtosdu\n",
        "import jtosdu.osdu as osdu\n",
        "\n",
        "client_id=\"605457357143-6h6uqunq67f53m9jeibn38gupd27bsfb.apps.googleusercontent.com\"\n",
        "client_secret=\"RZsmDE6ebJ7OGu5Csvz151JA\"\n",
        "\n",
        "if client_id == \"\" or client_secret == \"\":\n",
        "  client_id=input(\"Enter your client_id: \")\n",
        "  client_secret=input(\"Enter your client_secret: \")\n",
        "\n",
        "headers = osdu.authorize(client_id, client_secret, output)\n"
      ]
    },
    {
      "cell_type": "code",
      "source": [
        "#@title **25 Entitlements - Get groups success scenario**\n",
        "print(json.dumps(osdu.get_groups_success_scenario(headers), indent=2))\n"
      ],
      "metadata": {
        "id": "GhRG5boR0y-g"
      },
      "execution_count": null,
      "outputs": []
    }
  ]
}
