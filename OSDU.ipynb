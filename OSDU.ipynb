{
  "nbformat": 4,
  "nbformat_minor": 0,
  "metadata": {
    "colab": {
      "provenance": []
    },
    "kernelspec": {
      "name": "python3",
      "display_name": "Python 3"
    },
    "language_info": {
      "name": "python"
    }
  },
  "cells": [
    {
      "cell_type": "code",
      "execution_count": null,
      "metadata": {
        "id": "zF_-408NzwOn",
        "colab": {
          "base_uri": "https://localhost:8080/"
        },
        "cellView": "form",
        "outputId": "091bdfb6-18fc-4843-cfa9-d395d036b5c8"
      },
      "outputs": [
        {
          "output_type": "stream",
          "name": "stdout",
          "text": [
            "fatal: destination path 'jtosdu' already exists and is not an empty directory.\n",
            "Go to this URL in a browser:: https://accounts.google.com/o/oauth2/auth/oauthchooseaccount?access_type=offline&prompt=consent&response_type=code&client_id=605457357143-6h6uqunq67f53m9jeibn38gupd27bsfb.apps.googleusercontent.com&scope=email%20openid%20profile&redirect_uri=https%3A%2F%2Foauth.pstmn.io%2Fv1%2Fbrowser-callback\n"
          ]
        }
      ],
      "source": [
        "#@title **GCP OSDU Authentication**\n",
        "import subprocess\n",
        "from google.colab import output\n",
        "import requests\n",
        "import json\n",
        "import shutil\n",
        "\n",
        "# shutil.rmtree(\"/content/jtosdu\")\n",
        "!git clone https://github.com/jt151077/jt-osdu jtosdu\n",
        "import jtosdu.osdu as osdu\n",
        "\n",
        "client_id=\"605457357143-6h6uqunq67f53m9jeibn38gupd27bsfb.apps.googleusercontent.com\"\n",
        "client_secret=\"RZsmDE6ebJ7OGu5Csvz151JA\"\n",
        "\n",
        "if client_id == \"\" or client_secret == \"\":\n",
        "  client_id=input(\"Enter your client_id: \")\n",
        "  client_secret=input(\"Enter your client_secret: \")\n",
        "\n",
        "headers = osdu.authorize(client_id, client_secret, output)\n"
      ]
    },
    {
      "cell_type": "code",
      "source": [
        "#@title **25 Entitlements - Get groups success scenario**\n",
        "print(osdu.get_groups_success_scenario(headers))\n"
      ],
      "metadata": {
        "colab": {
          "base_uri": "https://localhost:8080/"
        },
        "id": "GhRG5boR0y-g",
        "outputId": "9877ca9c-36ec-43ee-b18d-e4ba464a4f3b"
      },
      "execution_count": null,
      "outputs": [
        {
          "output_type": "stream",
          "name": "stdout",
          "text": [
            "{\"desId\": \"byeribaut@google.com\", \"memberEmail\": \"byeribaut@google.com\", \"groups\": [{\"name\": \"service.dataset.viewers\", \"description\": \"service.dataset.viewers group\", \"email\": \"service.dataset.viewers@odesprod.group\"}, {\"name\": \"service.register.user\", \"description\": \"group name service.register.user\", \"email\": \"service.register.user@odesprod.group\"}, {\"name\": \"service.reservoir-dms.viewers\", \"description\": \"Viewers group for Reservoir DMS\", \"email\": \"service.reservoir-dms.viewers@odesprod.group\"}, {\"name\": \"service.secret.viewer\", \"description\": \"service.secret.viewer group\", \"email\": \"service.secret.viewer@odesprod.group\"}, {\"name\": \"service.messaging.user\", \"description\": \"Datalake Messaging users\", \"email\": \"service.messaging.user@odesprod.group\"}, {\"name\": \"service.merge.viewer\", \"description\": \"group name service.merge.viewer\", \"email\": \"service.merge.viewer@odesprod.group\"}, {\"name\": \"service.delivery.viewer\", \"description\": \"group name service.delivery.viewer\", \"email\": \"service.delivery.viewer@odesprod.group\"}, {\"name\": \"service.legal.user\", \"description\": \"Datalake Legal users\", \"email\": \"service.legal.user@odesprod.group\"}, {\"name\": \"service.workflow.viewer\", \"description\": \"Viewers group for workflow service\", \"email\": \"service.workflow.viewer@odesprod.group\"}, {\"name\": \"service.logstore.viewer\", \"description\": \"group name service.logstore.viewer\", \"email\": \"service.logstore.viewer@odesprod.group\"}, {\"name\": \"service.search.user\", \"description\": \"Datalake Search users\", \"email\": \"service.search.user@odesprod.group\"}, {\"name\": \"service.edsdms.user\", \"description\": \"EDS-DMS service editors\", \"email\": \"service.edsdms.user@odesprod.group\"}, {\"name\": \"service.entitlements.user\", \"description\": \"Datalake Entitlements users\", \"email\": \"service.entitlements.user@odesprod.group\"}, {\"name\": \"service.attribute_catalog.viewers\", \"description\": \"group name service.attribute_catalog.viewers\", \"email\": \"service.attribute_catalog.viewers@odesprod.group\"}, {\"name\": \"service.fetch.viewers\", \"description\": \"group name service.fetch.viewers\", \"email\": \"service.fetch.viewers@odesprod.group\"}, {\"name\": \"data.wke.owners\", \"description\": \"group name data.wke.owners\", \"email\": \"data.wke.owners@odesprod.group\"}, {\"name\": \"data.ihs.viewers\", \"description\": \"group name data.ihs.viewers\", \"email\": \"data.ihs.viewers@odesprod.group\"}, {\"name\": \"users\", \"description\": \"Datalake users\", \"email\": \"users@odesprod.group\"}, {\"name\": \"data.asdf.viewers\", \"description\": \"group name data.asdf.viewers\", \"email\": \"data.asdf.viewers@odesprod.group\"}, {\"name\": \"data.nobody.owners\", \"description\": \"group name data.nobody.owners\", \"email\": \"data.nobody.owners@odesprod.group\"}, {\"name\": \"users.data.root\", \"description\": \"Datalake root users\", \"email\": \"users.data.root@odesprod.group\"}, {\"name\": \"data.default.viewers\", \"description\": \"Default data viewers\", \"email\": \"data.default.viewers@odesprod.group\"}, {\"name\": \"data.wke.viewers\", \"description\": \"group name data.wke.viewers\", \"email\": \"data.wke.viewers@odesprod.group\"}, {\"name\": \"users.datalake.viewers\", \"description\": \"Datalake viewers\", \"email\": \"users.datalake.viewers@odesprod.group\"}, {\"name\": \"service.plugin.user\", \"description\": \"Datalake Plugin-Manager users\", \"email\": \"service.plugin.user@odesprod.group\"}, {\"name\": \"service.document.viewer\", \"description\": \"group name service.document.viewer\", \"email\": \"service.document.viewer@odesprod.group\"}, {\"name\": \"data.owners\", \"description\": \"group name data.owners\", \"email\": \"data.owners@odesprod.group\"}, {\"name\": \"data.viewers\", \"description\": \"group name data.viewers\", \"email\": \"data.viewers@odesprod.group\"}, {\"name\": \"data.null.owners\", \"description\": \"group name data.null.owners\", \"email\": \"data.null.owners@odesprod.group\"}, {\"name\": \"service.storage.viewer\", \"description\": \"The viewer of the datalake storage service\", \"email\": \"service.storage.viewer@odesprod.group\"}, {\"name\": \"service.file.viewers\", \"description\": \"Viewers group for file service\", \"email\": \"service.file.viewers@odesprod.group\"}, {\"name\": \"data.default.owners\", \"description\": \"Default data owners\", \"email\": \"data.default.owners@odesprod.group\"}, {\"name\": \"data.adf.owners\", \"description\": \"group name data.adf.owners\", \"email\": \"data.adf.owners@odesprod.group\"}, {\"name\": \"service.schema-service.viewers\", \"description\": \"Viewers group for ddms schema service\", \"email\": \"service.schema-service.viewers@odesprod.group\"}, {\"name\": \"data.nobody.viewers\", \"description\": \"group name data.nobody.viewers\", \"email\": \"data.nobody.viewers@odesprod.group\"}]}\n"
          ]
        }
      ]
    }
  ]
}